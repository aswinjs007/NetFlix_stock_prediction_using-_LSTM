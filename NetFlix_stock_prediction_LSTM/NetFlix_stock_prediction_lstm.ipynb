{
  "nbformat": 4,
  "nbformat_minor": 0,
  "metadata": {
    "colab": {
      "provenance": []
    },
    "kernelspec": {
      "name": "python3",
      "display_name": "Python 3"
    },
    "language_info": {
      "name": "python"
    }
  },
  "cells": [
    {
      "cell_type": "code",
      "execution_count": 24,
      "metadata": {
        "id": "tCzRIegre7yr"
      },
      "outputs": [],
      "source": [
        "import numpy as np\n",
        "import pandas as pd\n",
        "from sklearn.preprocessing import MinMaxScaler\n",
        "import matplotlib.pyplot as plt"
      ]
    },
    {
      "cell_type": "code",
      "source": [
        "import torch\n",
        "import torch.nn as nn"
      ],
      "metadata": {
        "id": "bteHvx3PfSpc"
      },
      "execution_count": 25,
      "outputs": []
    },
    {
      "cell_type": "code",
      "source": [
        "pwd"
      ],
      "metadata": {
        "colab": {
          "base_uri": "https://localhost:8080/",
          "height": 36
        },
        "id": "m0k0-go4lK2_",
        "outputId": "f11dd01e-1916-4538-e930-f841cea3c07c"
      },
      "execution_count": 26,
      "outputs": [
        {
          "output_type": "execute_result",
          "data": {
            "text/plain": [
              "'/content'"
            ],
            "application/vnd.google.colaboratory.intrinsic+json": {
              "type": "string"
            }
          },
          "metadata": {},
          "execution_count": 26
        }
      ]
    },
    {
      "cell_type": "code",
      "source": [
        "df = pd.read_csv(r'/content/sample_data/NFLX.csv')\n",
        "print(df.head())\n",
        "closed_prices = df[\"Close\"]"
      ],
      "metadata": {
        "colab": {
          "base_uri": "https://localhost:8080/"
        },
        "id": "fml9WJeQfYfi",
        "outputId": "fc28ac03-8bdd-4418-9442-953530ecddc2"
      },
      "execution_count": 27,
      "outputs": [
        {
          "output_type": "stream",
          "name": "stdout",
          "text": [
            "         Date        Open        High         Low       Close   Adj Close  \\\n",
            "0  2015-12-16  119.800003  123.000000  118.089996  122.639999  122.639999   \n",
            "1  2015-12-17  123.970001  126.349998  122.419998  122.510002  122.510002   \n",
            "2  2015-12-18  120.849998  122.190002  117.919998  118.019997  118.019997   \n",
            "3  2015-12-21  119.510002  119.589996  115.660004  116.629997  116.629997   \n",
            "4  2015-12-22  117.300003  117.430000  114.860001  116.239998  116.239998   \n",
            "\n",
            "     Volume  \n",
            "0  13181000  \n",
            "1  17284900  \n",
            "2  17948100  \n",
            "3  11670000  \n",
            "4   9689000  \n"
          ]
        }
      ]
    },
    {
      "cell_type": "code",
      "source": [
        "seq_len = 15"
      ],
      "metadata": {
        "id": "PWYlUX7Ffisz"
      },
      "execution_count": 28,
      "outputs": []
    },
    {
      "cell_type": "code",
      "source": [
        "mm = MinMaxScaler()\n",
        "scaled_price = mm.fit_transform(np.array(closed_prices)[... , None]).squeeze()"
      ],
      "metadata": {
        "id": "atNKCuAJfqzK"
      },
      "execution_count": 29,
      "outputs": []
    },
    {
      "cell_type": "code",
      "source": [
        "X=[]\n",
        "Y=[]"
      ],
      "metadata": {
        "id": "yWUcw696fvra"
      },
      "execution_count": 30,
      "outputs": []
    },
    {
      "cell_type": "code",
      "source": [
        "for i in range(len(scaled_price) - seq_len):\n",
        "    X.append(scaled_price[i : i+ seq_len])\n",
        "    Y.append(scaled_price[i+seq_len])"
      ],
      "metadata": {
        "id": "Ugtifcxhf0pa"
      },
      "execution_count": 31,
      "outputs": []
    },
    {
      "cell_type": "code",
      "source": [
        "X = np.array(X)[... , None]\n",
        "Y = np.array(Y)[... ,None]"
      ],
      "metadata": {
        "id": "0lNI-J-hf6tj"
      },
      "execution_count": 32,
      "outputs": []
    },
    {
      "cell_type": "code",
      "source": [
        "train_x = torch.from_numpy(X[:int(0.8*X.shape[0])]).float()\n",
        "train_y = torch.from_numpy(Y[:int(0.8*Y.shape[0])]).float()\n",
        "test_x = torch.from_numpy(X[:int(0.8*X.shape[0])]).float()\n",
        "test_y = torch.from_numpy(Y[:int(0.8*Y.shape[0])]).float()"
      ],
      "metadata": {
        "id": "_6-0Rw5hf-NL"
      },
      "execution_count": 33,
      "outputs": []
    },
    {
      "cell_type": "code",
      "source": [
        "class Model(nn.Module):\n",
        "    def __init__(self,input_size,hidden_size):\n",
        "        super().__init__()\n",
        "        self.lstm = nn.LSTM(input_size , hidden_size,batch_first=True)\n",
        "        self.fc=nn.Linear(hidden_size, 1)\n",
        "    def forward(self , x):\n",
        "        output,(hidden,cell)=self.lstm(x)\n",
        "        return self.fc(hidden[-1,:])"
      ],
      "metadata": {
        "id": "Wz0uhoIIgHm1"
      },
      "execution_count": 34,
      "outputs": []
    },
    {
      "cell_type": "code",
      "source": [
        "model = Model(1,64)"
      ],
      "metadata": {
        "id": "CP7AxXSEgNAb"
      },
      "execution_count": 35,
      "outputs": []
    },
    {
      "cell_type": "code",
      "source": [
        "optimizer=torch.optim.Adam(model.parameters(), lr=0.001)"
      ],
      "metadata": {
        "id": "7Xf6AH_GgO_T"
      },
      "execution_count": 36,
      "outputs": []
    },
    {
      "cell_type": "code",
      "source": [
        "loss_fn = nn.MSELoss()"
      ],
      "metadata": {
        "id": "P-Xbq1IdgUjs"
      },
      "execution_count": 37,
      "outputs": []
    },
    {
      "cell_type": "code",
      "source": [
        "num_epochs=100"
      ],
      "metadata": {
        "id": "G3VhxUHbgXhi"
      },
      "execution_count": 38,
      "outputs": []
    },
    {
      "cell_type": "code",
      "source": [
        "for epoch in range(num_epochs):\n",
        "    output = model(train_x)\n",
        "    loss=loss_fn(output,train_y)\n",
        "\n",
        "    optimizer.zero_grad()\n",
        "    loss.backward()\n",
        "    optimizer.step()\n",
        "\n",
        "    if epoch % 10==0 and epoch !=0:\n",
        "        print(epoch , \"epoch loss\", loss.detach().numpy())"
      ],
      "metadata": {
        "id": "oxOrS3fWggP7",
        "colab": {
          "base_uri": "https://localhost:8080/"
        },
        "outputId": "c5b15b8b-c4d3-4a68-f836-fde0ba16abb1"
      },
      "execution_count": 39,
      "outputs": [
        {
          "output_type": "stream",
          "name": "stdout",
          "text": [
            "10 epoch loss 0.13876545\n",
            "20 epoch loss 0.07117355\n",
            "30 epoch loss 0.052259672\n",
            "40 epoch loss 0.026975105\n",
            "50 epoch loss 0.008326274\n",
            "60 epoch loss 0.0071486454\n",
            "70 epoch loss 0.0051429346\n",
            "80 epoch loss 0.004239484\n",
            "90 epoch loss 0.0036682626\n"
          ]
        }
      ]
    },
    {
      "cell_type": "code",
      "source": [
        "model.eval()\n",
        "with torch.no_grad():\n",
        "    output=model(test_x)"
      ],
      "metadata": {
        "id": "zvaSZIWDgn86"
      },
      "execution_count": 40,
      "outputs": []
    },
    {
      "cell_type": "code",
      "source": [
        "pred=mm.inverse_transform(output.numpy())\n",
        "real=mm.inverse_transform(test_y.numpy())"
      ],
      "metadata": {
        "id": "Gw4SEtI3gsgi"
      },
      "execution_count": 41,
      "outputs": []
    },
    {
      "cell_type": "code",
      "source": [
        "plt.plot(pred.squeeze(),color=\"green\",label=\"predicted\")\n",
        "plt.plot(real.squeeze(),color=\"red\",label=\"real\")\n",
        "plt.show()"
      ],
      "metadata": {
        "id": "87ns8lm-g2YT",
        "colab": {
          "base_uri": "https://localhost:8080/",
          "height": 430
        },
        "outputId": "ec853436-f643-4e3b-d204-fd870e4c6dc0"
      },
      "execution_count": 42,
      "outputs": [
        {
          "output_type": "display_data",
          "data": {
            "text/plain": [
              "<Figure size 640x480 with 1 Axes>"
            ],
            "image/png": "[encoded data removed]"
          },
          "metadata": {}
        }
      ]
    }
  ]
}